{
 "cells": [
  {
   "cell_type": "code",
   "execution_count": 1,
   "id": "4e91a66f-98b4-4db2-9dbf-dc483e7ea2b3",
   "metadata": {},
   "outputs": [],
   "source": [
    "import pandas as pd\n",
    "import numpy as np\n",
    "import matplotlib.pyplot as plt\n",
    "from sklearn.ensemble import ExtraTreesClassifier"
   ]
  },
  {
   "cell_type": "code",
   "execution_count": 2,
   "id": "1a9b61a4-7a42-4601-9728-ce26cea1438e",
   "metadata": {},
   "outputs": [],
   "source": [
    "#Read the Dataset"
   ]
  },
  {
   "cell_type": "code",
   "execution_count": 3,
   "id": "4565427e-7eeb-4b2f-9cc1-e6efc079fc53",
   "metadata": {},
   "outputs": [
    {
     "data": {
      "text/html": [
       "<div>\n",
       "<style scoped>\n",
       "    .dataframe tbody tr th:only-of-type {\n",
       "        vertical-align: middle;\n",
       "    }\n",
       "\n",
       "    .dataframe tbody tr th {\n",
       "        vertical-align: top;\n",
       "    }\n",
       "\n",
       "    .dataframe thead th {\n",
       "        text-align: right;\n",
       "    }\n",
       "</style>\n",
       "<table border=\"1\" class=\"dataframe\">\n",
       "  <thead>\n",
       "    <tr style=\"text-align: right;\">\n",
       "      <th></th>\n",
       "      <th>User</th>\n",
       "      <th>Card</th>\n",
       "      <th>Year</th>\n",
       "      <th>Month</th>\n",
       "      <th>Day</th>\n",
       "      <th>Amount</th>\n",
       "      <th>UseChip</th>\n",
       "      <th>MerchantName</th>\n",
       "      <th>MerchantCity</th>\n",
       "      <th>MerchantState</th>\n",
       "      <th>Zip</th>\n",
       "      <th>MCC</th>\n",
       "      <th>IssFraud?</th>\n",
       "    </tr>\n",
       "  </thead>\n",
       "  <tbody>\n",
       "    <tr>\n",
       "      <th>0</th>\n",
       "      <td>1</td>\n",
       "      <td>1</td>\n",
       "      <td>2005</td>\n",
       "      <td>9</td>\n",
       "      <td>6</td>\n",
       "      <td>$16.68</td>\n",
       "      <td>Swipe Transaction</td>\n",
       "      <td>Ross Package Store</td>\n",
       "      <td>Berkley</td>\n",
       "      <td>MI</td>\n",
       "      <td>48072.0</td>\n",
       "      <td>5921</td>\n",
       "      <td>No</td>\n",
       "    </tr>\n",
       "    <tr>\n",
       "      <th>1</th>\n",
       "      <td>1</td>\n",
       "      <td>1</td>\n",
       "      <td>2005</td>\n",
       "      <td>9</td>\n",
       "      <td>9</td>\n",
       "      <td>$224.70</td>\n",
       "      <td>Online Transaction</td>\n",
       "      <td>Digital Delivery Company 7</td>\n",
       "      <td>ONLINE</td>\n",
       "      <td>NaN</td>\n",
       "      <td>NaN</td>\n",
       "      <td>4899</td>\n",
       "      <td>No</td>\n",
       "    </tr>\n",
       "    <tr>\n",
       "      <th>2</th>\n",
       "      <td>1</td>\n",
       "      <td>1</td>\n",
       "      <td>2005</td>\n",
       "      <td>9</td>\n",
       "      <td>9</td>\n",
       "      <td>$145.61</td>\n",
       "      <td>Online Transaction</td>\n",
       "      <td>Travel Booking Company 4</td>\n",
       "      <td>ONLINE</td>\n",
       "      <td>NaN</td>\n",
       "      <td>NaN</td>\n",
       "      <td>4722</td>\n",
       "      <td>No</td>\n",
       "    </tr>\n",
       "    <tr>\n",
       "      <th>3</th>\n",
       "      <td>1</td>\n",
       "      <td>1</td>\n",
       "      <td>2005</td>\n",
       "      <td>9</td>\n",
       "      <td>9</td>\n",
       "      <td>$229.21</td>\n",
       "      <td>Swipe Transaction</td>\n",
       "      <td>Car Rental Company 4</td>\n",
       "      <td>Belleville</td>\n",
       "      <td>MI</td>\n",
       "      <td>48111.0</td>\n",
       "      <td>3405</td>\n",
       "      <td>No</td>\n",
       "    </tr>\n",
       "    <tr>\n",
       "      <th>4</th>\n",
       "      <td>1</td>\n",
       "      <td>1</td>\n",
       "      <td>2005</td>\n",
       "      <td>9</td>\n",
       "      <td>9</td>\n",
       "      <td>$11.00</td>\n",
       "      <td>Swipe Transaction</td>\n",
       "      <td>Supermarket Chain 3</td>\n",
       "      <td>Southfield</td>\n",
       "      <td>MI</td>\n",
       "      <td>48075.0</td>\n",
       "      <td>5411</td>\n",
       "      <td>No</td>\n",
       "    </tr>\n",
       "    <tr>\n",
       "      <th>...</th>\n",
       "      <td>...</td>\n",
       "      <td>...</td>\n",
       "      <td>...</td>\n",
       "      <td>...</td>\n",
       "      <td>...</td>\n",
       "      <td>...</td>\n",
       "      <td>...</td>\n",
       "      <td>...</td>\n",
       "      <td>...</td>\n",
       "      <td>...</td>\n",
       "      <td>...</td>\n",
       "      <td>...</td>\n",
       "      <td>...</td>\n",
       "    </tr>\n",
       "    <tr>\n",
       "      <th>691915</th>\n",
       "      <td>1999</td>\n",
       "      <td>4</td>\n",
       "      <td>2019</td>\n",
       "      <td>4</td>\n",
       "      <td>13</td>\n",
       "      <td>$52.42</td>\n",
       "      <td>Chip Transaction</td>\n",
       "      <td>Wright Beauticians</td>\n",
       "      <td>East Elmhurst</td>\n",
       "      <td>NY</td>\n",
       "      <td>11370.0</td>\n",
       "      <td>7230</td>\n",
       "      <td>No</td>\n",
       "    </tr>\n",
       "    <tr>\n",
       "      <th>691916</th>\n",
       "      <td>1999</td>\n",
       "      <td>4</td>\n",
       "      <td>2019</td>\n",
       "      <td>4</td>\n",
       "      <td>15</td>\n",
       "      <td>$7.57</td>\n",
       "      <td>Chip Transaction</td>\n",
       "      <td>Bookstore Company 1</td>\n",
       "      <td>Elmhurst</td>\n",
       "      <td>NY</td>\n",
       "      <td>11373.0</td>\n",
       "      <td>5942</td>\n",
       "      <td>No</td>\n",
       "    </tr>\n",
       "    <tr>\n",
       "      <th>691917</th>\n",
       "      <td>1999</td>\n",
       "      <td>4</td>\n",
       "      <td>2019</td>\n",
       "      <td>4</td>\n",
       "      <td>15</td>\n",
       "      <td>$7.27</td>\n",
       "      <td>Chip Transaction</td>\n",
       "      <td>Supermarket Chain 1</td>\n",
       "      <td>Elmhurst</td>\n",
       "      <td>NY</td>\n",
       "      <td>11373.0</td>\n",
       "      <td>5411</td>\n",
       "      <td>No</td>\n",
       "    </tr>\n",
       "    <tr>\n",
       "      <th>691918</th>\n",
       "      <td>1999</td>\n",
       "      <td>4</td>\n",
       "      <td>2019</td>\n",
       "      <td>4</td>\n",
       "      <td>17</td>\n",
       "      <td>$5.39</td>\n",
       "      <td>Chip Transaction</td>\n",
       "      <td>Acme Souvenirs</td>\n",
       "      <td>East Elmhurst</td>\n",
       "      <td>NY</td>\n",
       "      <td>11370.0</td>\n",
       "      <td>5947</td>\n",
       "      <td>No</td>\n",
       "    </tr>\n",
       "    <tr>\n",
       "      <th>691919</th>\n",
       "      <td>1999</td>\n",
       "      <td>4</td>\n",
       "      <td>2019</td>\n",
       "      <td>4</td>\n",
       "      <td>24</td>\n",
       "      <td>$15.59</td>\n",
       "      <td>Chip Transaction</td>\n",
       "      <td>Fox East Elmhurst Car Cleaners</td>\n",
       "      <td>East Elmhurst</td>\n",
       "      <td>NY</td>\n",
       "      <td>11370.0</td>\n",
       "      <td>7542</td>\n",
       "      <td>No</td>\n",
       "    </tr>\n",
       "  </tbody>\n",
       "</table>\n",
       "<p>691920 rows × 13 columns</p>\n",
       "</div>"
      ],
      "text/plain": [
       "        User  Card  Year  Month  Day   Amount             UseChip  \\\n",
       "0          1     1  2005      9    6   $16.68   Swipe Transaction   \n",
       "1          1     1  2005      9    9  $224.70  Online Transaction   \n",
       "2          1     1  2005      9    9  $145.61  Online Transaction   \n",
       "3          1     1  2005      9    9  $229.21   Swipe Transaction   \n",
       "4          1     1  2005      9    9   $11.00   Swipe Transaction   \n",
       "...      ...   ...   ...    ...  ...      ...                 ...   \n",
       "691915  1999     4  2019      4   13   $52.42    Chip Transaction   \n",
       "691916  1999     4  2019      4   15    $7.57    Chip Transaction   \n",
       "691917  1999     4  2019      4   15    $7.27    Chip Transaction   \n",
       "691918  1999     4  2019      4   17    $5.39    Chip Transaction   \n",
       "691919  1999     4  2019      4   24   $15.59    Chip Transaction   \n",
       "\n",
       "                          MerchantName   MerchantCity MerchantState      Zip  \\\n",
       "0                   Ross Package Store        Berkley            MI  48072.0   \n",
       "1           Digital Delivery Company 7         ONLINE           NaN      NaN   \n",
       "2             Travel Booking Company 4         ONLINE           NaN      NaN   \n",
       "3                 Car Rental Company 4     Belleville            MI  48111.0   \n",
       "4                  Supermarket Chain 3     Southfield            MI  48075.0   \n",
       "...                                ...            ...           ...      ...   \n",
       "691915              Wright Beauticians  East Elmhurst            NY  11370.0   \n",
       "691916             Bookstore Company 1       Elmhurst            NY  11373.0   \n",
       "691917             Supermarket Chain 1       Elmhurst            NY  11373.0   \n",
       "691918                  Acme Souvenirs  East Elmhurst            NY  11370.0   \n",
       "691919  Fox East Elmhurst Car Cleaners  East Elmhurst            NY  11370.0   \n",
       "\n",
       "         MCC IssFraud?  \n",
       "0       5921        No  \n",
       "1       4899        No  \n",
       "2       4722        No  \n",
       "3       3405        No  \n",
       "4       5411        No  \n",
       "...      ...       ...  \n",
       "691915  7230        No  \n",
       "691916  5942        No  \n",
       "691917  5411        No  \n",
       "691918  5947        No  \n",
       "691919  7542        No  \n",
       "\n",
       "[691920 rows x 13 columns]"
      ]
     },
     "execution_count": 3,
     "metadata": {},
     "output_type": "execute_result"
    }
   ],
   "source": [
    "# Loading the data\n",
    "df = pd.read_csv('credit_card_detection.csv')\n",
    "df"
   ]
  },
  {
   "cell_type": "code",
   "execution_count": 4,
   "id": "00774e66-ce46-4461-aee8-87b0c5b5d020",
   "metadata": {},
   "outputs": [
    {
     "data": {
      "text/plain": [
       "Index(['User', 'Card', 'Year', 'Month', 'Day', 'Amount', 'UseChip',\n",
       "       'MerchantName', 'MerchantCity', 'MerchantState', 'Zip', 'MCC',\n",
       "       'IssFraud?'],\n",
       "      dtype='object')"
      ]
     },
     "execution_count": 4,
     "metadata": {},
     "output_type": "execute_result"
    }
   ],
   "source": [
    "#User- column for user id details\n",
    "#Card-Column for card number\n",
    "#Year- column for year of transaction\n",
    "#Month-column for month of transaction\n",
    "#Day-column for Day of transaction\n",
    "#Amount-for how much amount transacted \n",
    "#Use Chip-for transaction is based on online or swipe transaction\n",
    "#Merchant name- Name of the merchant in the transaction\n",
    "#Merchant city-Merchant city name in the transaction\n",
    "#Merchant state-Merchant state name in the transaction\n",
    "#Zip-Postal code of the merchant area\n",
    "#MCC-It is a four number pin given by bank for each card\n",
    "df.columns"
   ]
  },
  {
   "cell_type": "raw",
   "id": "af403522-ea5c-463c-910b-e826693e63ac",
   "metadata": {},
   "source": [
    "#Check Null values"
   ]
  },
  {
   "cell_type": "code",
   "execution_count": 5,
   "id": "5f4abfbe-8503-497f-b7b5-3a7d5fbb6e4a",
   "metadata": {},
   "outputs": [
    {
     "data": {
      "text/plain": [
       "User                 0\n",
       "Card                 0\n",
       "Year                 0\n",
       "Month                0\n",
       "Day                  0\n",
       "Amount               0\n",
       "UseChip              0\n",
       "MerchantName         0\n",
       "MerchantCity         0\n",
       "MerchantState    73784\n",
       "Zip              77856\n",
       "MCC                  0\n",
       "IssFraud?            0\n",
       "dtype: int64"
      ]
     },
     "execution_count": 5,
     "metadata": {},
     "output_type": "execute_result"
    }
   ],
   "source": [
    "df.isnull().sum()"
   ]
  },
  {
   "cell_type": "code",
   "execution_count": 6,
   "id": "5c082732-3bd5-47b9-beab-72a32c45225a",
   "metadata": {},
   "outputs": [
    {
     "data": {
      "text/html": [
       "<div>\n",
       "<style scoped>\n",
       "    .dataframe tbody tr th:only-of-type {\n",
       "        vertical-align: middle;\n",
       "    }\n",
       "\n",
       "    .dataframe tbody tr th {\n",
       "        vertical-align: top;\n",
       "    }\n",
       "\n",
       "    .dataframe thead th {\n",
       "        text-align: right;\n",
       "    }\n",
       "</style>\n",
       "<table border=\"1\" class=\"dataframe\">\n",
       "  <thead>\n",
       "    <tr style=\"text-align: right;\">\n",
       "      <th></th>\n",
       "      <th>User</th>\n",
       "      <th>Card</th>\n",
       "      <th>Year</th>\n",
       "      <th>Month</th>\n",
       "      <th>Day</th>\n",
       "      <th>Amount</th>\n",
       "      <th>UseChip</th>\n",
       "      <th>MerchantName</th>\n",
       "      <th>MerchantCity</th>\n",
       "      <th>MerchantState</th>\n",
       "      <th>Zip</th>\n",
       "      <th>MCC</th>\n",
       "      <th>IssFraud?</th>\n",
       "    </tr>\n",
       "  </thead>\n",
       "  <tbody>\n",
       "    <tr>\n",
       "      <th>0</th>\n",
       "      <td>1</td>\n",
       "      <td>1</td>\n",
       "      <td>2005</td>\n",
       "      <td>9</td>\n",
       "      <td>6</td>\n",
       "      <td>$16.68</td>\n",
       "      <td>Swipe Transaction</td>\n",
       "      <td>Ross Package Store</td>\n",
       "      <td>Berkley</td>\n",
       "      <td>MI</td>\n",
       "      <td>48072.0</td>\n",
       "      <td>5921</td>\n",
       "      <td>No</td>\n",
       "    </tr>\n",
       "    <tr>\n",
       "      <th>1</th>\n",
       "      <td>1</td>\n",
       "      <td>1</td>\n",
       "      <td>2005</td>\n",
       "      <td>9</td>\n",
       "      <td>9</td>\n",
       "      <td>$224.70</td>\n",
       "      <td>Online Transaction</td>\n",
       "      <td>Digital Delivery Company 7</td>\n",
       "      <td>ONLINE</td>\n",
       "      <td>NaN</td>\n",
       "      <td>NaN</td>\n",
       "      <td>4899</td>\n",
       "      <td>No</td>\n",
       "    </tr>\n",
       "    <tr>\n",
       "      <th>2</th>\n",
       "      <td>1</td>\n",
       "      <td>1</td>\n",
       "      <td>2005</td>\n",
       "      <td>9</td>\n",
       "      <td>9</td>\n",
       "      <td>$145.61</td>\n",
       "      <td>Online Transaction</td>\n",
       "      <td>Travel Booking Company 4</td>\n",
       "      <td>ONLINE</td>\n",
       "      <td>NaN</td>\n",
       "      <td>NaN</td>\n",
       "      <td>4722</td>\n",
       "      <td>No</td>\n",
       "    </tr>\n",
       "    <tr>\n",
       "      <th>3</th>\n",
       "      <td>1</td>\n",
       "      <td>1</td>\n",
       "      <td>2005</td>\n",
       "      <td>9</td>\n",
       "      <td>9</td>\n",
       "      <td>$229.21</td>\n",
       "      <td>Swipe Transaction</td>\n",
       "      <td>Car Rental Company 4</td>\n",
       "      <td>Belleville</td>\n",
       "      <td>MI</td>\n",
       "      <td>48111.0</td>\n",
       "      <td>3405</td>\n",
       "      <td>No</td>\n",
       "    </tr>\n",
       "    <tr>\n",
       "      <th>4</th>\n",
       "      <td>1</td>\n",
       "      <td>1</td>\n",
       "      <td>2005</td>\n",
       "      <td>9</td>\n",
       "      <td>9</td>\n",
       "      <td>$11.00</td>\n",
       "      <td>Swipe Transaction</td>\n",
       "      <td>Supermarket Chain 3</td>\n",
       "      <td>Southfield</td>\n",
       "      <td>MI</td>\n",
       "      <td>48075.0</td>\n",
       "      <td>5411</td>\n",
       "      <td>No</td>\n",
       "    </tr>\n",
       "  </tbody>\n",
       "</table>\n",
       "</div>"
      ],
      "text/plain": [
       "   User  Card  Year  Month  Day   Amount             UseChip  \\\n",
       "0     1     1  2005      9    6   $16.68   Swipe Transaction   \n",
       "1     1     1  2005      9    9  $224.70  Online Transaction   \n",
       "2     1     1  2005      9    9  $145.61  Online Transaction   \n",
       "3     1     1  2005      9    9  $229.21   Swipe Transaction   \n",
       "4     1     1  2005      9    9   $11.00   Swipe Transaction   \n",
       "\n",
       "                 MerchantName MerchantCity MerchantState      Zip   MCC  \\\n",
       "0          Ross Package Store      Berkley            MI  48072.0  5921   \n",
       "1  Digital Delivery Company 7       ONLINE           NaN      NaN  4899   \n",
       "2    Travel Booking Company 4       ONLINE           NaN      NaN  4722   \n",
       "3        Car Rental Company 4   Belleville            MI  48111.0  3405   \n",
       "4         Supermarket Chain 3   Southfield            MI  48075.0  5411   \n",
       "\n",
       "  IssFraud?  \n",
       "0        No  \n",
       "1        No  \n",
       "2        No  \n",
       "3        No  \n",
       "4        No  "
      ]
     },
     "execution_count": 6,
     "metadata": {},
     "output_type": "execute_result"
    }
   ],
   "source": [
    "df.head()"
   ]
  },
  {
   "cell_type": "raw",
   "id": "5a42d8d6-ece2-41d6-ad9a-0e1028e7d69b",
   "metadata": {},
   "source": [
    "#Check balanced data or imbalanced data"
   ]
  },
  {
   "cell_type": "code",
   "execution_count": 9,
   "id": "a766d6e9-e904-4e39-abeb-dabafcec9c1c",
   "metadata": {},
   "outputs": [
    {
     "data": {
      "text/plain": [
       "IssFraud?\n",
       "No     691048\n",
       "Yes       872\n",
       "Name: count, dtype: int64"
      ]
     },
     "execution_count": 9,
     "metadata": {},
     "output_type": "execute_result"
    }
   ],
   "source": [
    "df['IssFraud?'].value_counts()"
   ]
  },
  {
   "cell_type": "raw",
   "id": "02fae368-4f87-4ad8-bf77-c43b621baa74",
   "metadata": {},
   "source": [
    "#Split the input and output values"
   ]
  },
  {
   "cell_type": "code",
   "execution_count": 10,
   "id": "0ee47fd2-6980-452c-9e2e-5befe2348b2a",
   "metadata": {},
   "outputs": [
    {
     "name": "stdout",
     "output_type": "stream",
     "text": [
      "        User  Card  Year  Month  Day             UseChip  \\\n",
      "0          1     1  2005      9    6   Swipe Transaction   \n",
      "1          1     1  2005      9    9  Online Transaction   \n",
      "2          1     1  2005      9    9  Online Transaction   \n",
      "3          1     1  2005      9    9   Swipe Transaction   \n",
      "4          1     1  2005      9    9   Swipe Transaction   \n",
      "...      ...   ...   ...    ...  ...                 ...   \n",
      "691915  1999     4  2019      4   13    Chip Transaction   \n",
      "691916  1999     4  2019      4   15    Chip Transaction   \n",
      "691917  1999     4  2019      4   15    Chip Transaction   \n",
      "691918  1999     4  2019      4   17    Chip Transaction   \n",
      "691919  1999     4  2019      4   24    Chip Transaction   \n",
      "\n",
      "                          MerchantName   MerchantCity MerchantState      Zip  \\\n",
      "0                   Ross Package Store        Berkley            MI  48072.0   \n",
      "1           Digital Delivery Company 7         ONLINE           NaN      NaN   \n",
      "2             Travel Booking Company 4         ONLINE           NaN      NaN   \n",
      "3                 Car Rental Company 4     Belleville            MI  48111.0   \n",
      "4                  Supermarket Chain 3     Southfield            MI  48075.0   \n",
      "...                                ...            ...           ...      ...   \n",
      "691915              Wright Beauticians  East Elmhurst            NY  11370.0   \n",
      "691916             Bookstore Company 1       Elmhurst            NY  11373.0   \n",
      "691917             Supermarket Chain 1       Elmhurst            NY  11373.0   \n",
      "691918                  Acme Souvenirs  East Elmhurst            NY  11370.0   \n",
      "691919  Fox East Elmhurst Car Cleaners  East Elmhurst            NY  11370.0   \n",
      "\n",
      "         MCC  \n",
      "0       5921  \n",
      "1       4899  \n",
      "2       4722  \n",
      "3       3405  \n",
      "4       5411  \n",
      "...      ...  \n",
      "691915  7230  \n",
      "691916  5942  \n",
      "691917  5411  \n",
      "691918  5947  \n",
      "691919  7542  \n",
      "\n",
      "[691920 rows x 11 columns]\n"
     ]
    }
   ],
   "source": [
    "independent=df[['User', 'Card', 'Year', 'Month', 'Day','UseChip',\n",
    "       'MerchantName', 'MerchantCity', 'MerchantState', 'Zip', 'MCC']]\n",
    "\n",
    "dependent=df[['IssFraud?']]\n",
    "print(independent)"
   ]
  },
  {
   "cell_type": "raw",
   "id": "496e5e74-70d6-4e10-b7b5-5198c5c693be",
   "metadata": {},
   "source": [
    "#Data preprocessing"
   ]
  },
  {
   "cell_type": "raw",
   "id": "80741d5d-4b62-4501-8868-dc542783e2da",
   "metadata": {},
   "source": [
    "#split the numerical and categorical values"
   ]
  },
  {
   "cell_type": "code",
   "execution_count": 11,
   "id": "bb76b6fc-6b6e-44d7-a7c6-53c34f6d6aab",
   "metadata": {},
   "outputs": [],
   "source": [
    "def quanQual(df):\n",
    "    quan=[]\n",
    "    qual=[]\n",
    "    for columnName in df.columns:\n",
    "    #print(columnName)\n",
    "        if(df[columnName].dtypes=='O'):\n",
    "        #print(\"qual\")\n",
    "            qual.append(columnName)\n",
    "        else:\n",
    "        #print(\"quan\")\n",
    "             quan.append(columnName)\n",
    "    return quan,qual"
   ]
  },
  {
   "cell_type": "code",
   "execution_count": 12,
   "id": "887ba78f-f15c-4b32-97f6-2e8450a63f68",
   "metadata": {},
   "outputs": [],
   "source": [
    "quan,qual=quanQual(df)"
   ]
  },
  {
   "cell_type": "code",
   "execution_count": 13,
   "id": "f057b2e8-1016-41bd-afac-29b4d46d2917",
   "metadata": {},
   "outputs": [
    {
     "data": {
      "text/plain": [
       "['User', 'Card', 'Year', 'Month', 'Day', 'Zip', 'MCC']"
      ]
     },
     "execution_count": 13,
     "metadata": {},
     "output_type": "execute_result"
    }
   ],
   "source": [
    "quan"
   ]
  },
  {
   "cell_type": "code",
   "execution_count": 14,
   "id": "ad44047b-f4e2-43ae-a094-5256a060f938",
   "metadata": {},
   "outputs": [
    {
     "data": {
      "text/plain": [
       "['Amount',\n",
       " 'UseChip',\n",
       " 'MerchantName',\n",
       " 'MerchantCity',\n",
       " 'MerchantState',\n",
       " 'IssFraud?']"
      ]
     },
     "execution_count": 14,
     "metadata": {},
     "output_type": "execute_result"
    }
   ],
   "source": [
    "qual"
   ]
  },
  {
   "cell_type": "code",
   "execution_count": 15,
   "id": "d7b57514-c790-4078-9674-15b90554c49a",
   "metadata": {},
   "outputs": [],
   "source": [
    "import numpy as np\n",
    "from sklearn.impute import SimpleImputer\n",
    "imp=SimpleImputer(missing_values=np.nan,strategy=\"mean\",copy=True)\n",
    "imp.fit(df[quan])\n",
    "datan=imp.transform(df[quan])"
   ]
  },
  {
   "cell_type": "code",
   "execution_count": 16,
   "id": "69026b1e-30a3-4de0-b3cf-d17d0f321358",
   "metadata": {},
   "outputs": [
    {
     "data": {
      "text/plain": [
       "array([[1.00000000e+00, 1.00000000e+00, 2.00500000e+03, ...,\n",
       "        6.00000000e+00, 4.80720000e+04, 5.92100000e+03],\n",
       "       [1.00000000e+00, 1.00000000e+00, 2.00500000e+03, ...,\n",
       "        9.00000000e+00, 5.16946769e+04, 4.89900000e+03],\n",
       "       [1.00000000e+00, 1.00000000e+00, 2.00500000e+03, ...,\n",
       "        9.00000000e+00, 5.16946769e+04, 4.72200000e+03],\n",
       "       ...,\n",
       "       [1.99900000e+03, 4.00000000e+00, 2.01900000e+03, ...,\n",
       "        1.50000000e+01, 1.13730000e+04, 5.41100000e+03],\n",
       "       [1.99900000e+03, 4.00000000e+00, 2.01900000e+03, ...,\n",
       "        1.70000000e+01, 1.13700000e+04, 5.94700000e+03],\n",
       "       [1.99900000e+03, 4.00000000e+00, 2.01900000e+03, ...,\n",
       "        2.40000000e+01, 1.13700000e+04, 7.54200000e+03]])"
      ]
     },
     "execution_count": 16,
     "metadata": {},
     "output_type": "execute_result"
    }
   ],
   "source": [
    "datan"
   ]
  },
  {
   "cell_type": "code",
   "execution_count": 17,
   "id": "6ed81e05-0942-4c67-905e-6f9868c1d7a4",
   "metadata": {},
   "outputs": [],
   "source": [
    "datan=pd.DataFrame(datan,columns=quan)"
   ]
  },
  {
   "cell_type": "code",
   "execution_count": 18,
   "id": "4eaec742-b593-4963-b651-569d2dfeb430",
   "metadata": {},
   "outputs": [],
   "source": [
    "import numpy as np\n",
    "from sklearn.impute import SimpleImputer\n",
    "imp=SimpleImputer(missing_values=np.nan,strategy=\"most_frequent\")\n",
    "imp.fit(df[qual])\n",
    "datal=imp.transform(df[qual])"
   ]
  },
  {
   "cell_type": "code",
   "execution_count": 19,
   "id": "bf49a8e8-778b-4ca7-841c-e90ca8235d17",
   "metadata": {},
   "outputs": [
    {
     "data": {
      "text/plain": [
       "array([['$16.68', 'Swipe Transaction', 'Ross Package Store', 'Berkley',\n",
       "        'MI', 'No'],\n",
       "       ['$224.70', 'Online Transaction', 'Digital Delivery Company 7',\n",
       "        'ONLINE', 'CA', 'No'],\n",
       "       ['$145.61', 'Online Transaction', 'Travel Booking Company 4',\n",
       "        'ONLINE', 'CA', 'No'],\n",
       "       ...,\n",
       "       ['$7.27', 'Chip Transaction', 'Supermarket Chain 1', 'Elmhurst',\n",
       "        'NY', 'No'],\n",
       "       ['$5.39', 'Chip Transaction', 'Acme Souvenirs', 'East Elmhurst',\n",
       "        'NY', 'No'],\n",
       "       ['$15.59', 'Chip Transaction', 'Fox East Elmhurst Car Cleaners',\n",
       "        'East Elmhurst', 'NY', 'No']], dtype=object)"
      ]
     },
     "execution_count": 19,
     "metadata": {},
     "output_type": "execute_result"
    }
   ],
   "source": [
    "datal"
   ]
  },
  {
   "cell_type": "code",
   "execution_count": 20,
   "id": "b9bcd882-0f11-466a-8890-7a97226f9573",
   "metadata": {},
   "outputs": [],
   "source": [
    "datal=pd.DataFrame(datal,columns=qual)"
   ]
  },
  {
   "cell_type": "code",
   "execution_count": 21,
   "id": "7a2d303c-c0a6-4531-a192-316899a7461e",
   "metadata": {},
   "outputs": [],
   "source": [
    "df=pd.concat([datan,datal],axis=1)"
   ]
  },
  {
   "cell_type": "code",
   "execution_count": 22,
   "id": "c2975f1b-3cd3-4998-800f-a810b41dce78",
   "metadata": {},
   "outputs": [],
   "source": [
    "csv=df.to_csv(\"Preprocessed_credit_card_detection.csv\",index=False)"
   ]
  },
  {
   "cell_type": "code",
   "execution_count": 23,
   "id": "b892e283-a51b-4cb6-9ac1-920b5be1203e",
   "metadata": {},
   "outputs": [],
   "source": [
    "csv"
   ]
  },
  {
   "cell_type": "code",
   "execution_count": null,
   "id": "eb8f10fe-4f61-4fac-bd20-af391fc84947",
   "metadata": {},
   "outputs": [],
   "source": []
  }
 ],
 "metadata": {
  "kernelspec": {
   "display_name": "Python 3 (ipykernel)",
   "language": "python",
   "name": "python3"
  },
  "language_info": {
   "codemirror_mode": {
    "name": "ipython",
    "version": 3
   },
   "file_extension": ".py",
   "mimetype": "text/x-python",
   "name": "python",
   "nbconvert_exporter": "python",
   "pygments_lexer": "ipython3",
   "version": "3.8.0"
  }
 },
 "nbformat": 4,
 "nbformat_minor": 5
}
